{
  "cells": [
    {
      "cell_type": "markdown",
      "metadata": {
        "id": "duxUU1OLPFYB"
      },
      "source": [
        "### Clone yolov8 cam"
      ]
    },
    {
      "cell_type": "code",
      "execution_count": null,
      "metadata": {
        "colab": {
          "base_uri": "https://localhost:8080/"
        },
        "id": "R5geEjIFDw8e",
        "outputId": "c6a50b81-34d8-4043-ee8d-f40885f63ad4"
      },
      "outputs": [
        {
          "name": "stderr",
          "output_type": "stream",
          "text": [
            "Cloning into 'YOLO-V8-CAM'...\n"
          ]
        }
      ],
      "source": [
        "!git clone https://github.com/rigvedrs/YOLO-V8-CAM.git"
      ]
    },
    {
      "cell_type": "markdown",
      "metadata": {
        "id": "2ZT8GRO6PKqX"
      },
      "source": [
        "### Import Library"
      ]
    },
    {
      "cell_type": "code",
      "execution_count": null,
      "metadata": {
        "id": "wkmnvEbVEDnw"
      },
      "outputs": [],
      "source": [
        "import ultralytics\n",
        "from ultralytics import YOLO"
      ]
    },
    {
      "cell_type": "code",
      "execution_count": null,
      "metadata": {
        "id": "6RxchAAvqAzB"
      },
      "outputs": [],
      "source": [
        "import warnings\n",
        "warnings.filterwarnings('ignore')\n",
        "warnings.simplefilter('ignore')\n",
        "import torch\n",
        "import cv2\n",
        "import numpy as np\n",
        "import matplotlib.pyplot as plt\n",
        "import requests\n",
        "import torchvision.transforms as transforms\n",
        "from PIL import Image\n",
        "import io"
      ]
    },
    {
      "cell_type": "code",
      "execution_count": null,
      "metadata": {
        "id": "fAazwsDAqB7a"
      },
      "outputs": [],
      "source": [
        "plt.rcParams[\"figure.figsize\"] = [3.0, 3.0]"
      ]
    },
    {
      "cell_type": "code",
      "execution_count": null,
      "metadata": {
        "id": "x2WWRUtsqDI_"
      },
      "outputs": [],
      "source": [
        "from yolo_cam.eigen_cam import EigenCAM\n",
        "from yolo_cam.utils.image import show_cam_on_image, scale_cam_image"
      ]
    },
    {
      "cell_type": "markdown",
      "metadata": {
        "id": "mBnuc-GsPPHH"
      },
      "source": [
        "### Heatmap"
      ]
    },
    {
      "cell_type": "markdown",
      "metadata": {},
      "source": [
        "#### Input the best model during training."
      ]
    },
    {
      "cell_type": "code",
      "execution_count": null,
      "metadata": {
        "id": "saYg_9HOqbTn"
      },
      "outputs": [],
      "source": [
        "model = YOLO('')"
      ]
    },
    {
      "cell_type": "markdown",
      "metadata": {},
      "source": [
        "#### Pick the image to be shown with heatmap."
      ]
    },
    {
      "cell_type": "code",
      "execution_count": null,
      "metadata": {
        "id": "ihhVnbRAqjcw"
      },
      "outputs": [],
      "source": [
        "img = cv2.imread('')\n",
        "height, width, _ = img.shape\n",
        "target_size = (width, height)\n",
        "\n",
        "img = cv2.resize(img, (640,640))\n",
        "rgb_img = img.copy()\n",
        "img = np.float32(img) / 255"
      ]
    },
    {
      "cell_type": "code",
      "execution_count": null,
      "metadata": {
        "colab": {
          "base_uri": "https://localhost:8080/",
          "height": 401
        },
        "id": "DkirX9PBqmtx",
        "outputId": "5d11ec02-dc26-480a-8794-1a576445d28f"
      },
      "outputs": [],
      "source": [
        "target_layers = [model.model.model[-4]]\n",
        "cam = EigenCAM(model, target_layers,task='od')\n",
        "\n",
        "grayscale_cam = cam(rgb_img)[0, :, :]\n",
        "grayscale_cam = cam(rgb_img)[0, :, :]\n",
        "cam_image = show_cam_on_image(img, grayscale_cam,use_rgb=True)\n",
        "plt.imshow(cam_image)\n",
        "plt.show()"
      ]
    },
    {
      "cell_type": "markdown",
      "metadata": {},
      "source": [
        "#### Compare 2 images between original and heatmap image."
      ]
    },
    {
      "cell_type": "code",
      "execution_count": null,
      "metadata": {
        "colab": {
          "base_uri": "https://localhost:8080/",
          "height": 567
        },
        "id": "UpX9TI-ZrSlE",
        "outputId": "670177b0-a2d2-496e-8d4d-c45e56881661"
      },
      "outputs": [],
      "source": [
        "im = cv2.cvtColor(rgb_img, cv2.COLOR_RGB2BGR)\n",
        "Image.fromarray(np.hstack((im, cam_image)))"
      ]
    },
    {
      "cell_type": "markdown",
      "metadata": {},
      "source": [
        "#### Combine both images into one."
      ]
    },
    {
      "cell_type": "code",
      "execution_count": null,
      "metadata": {
        "colab": {
          "base_uri": "https://localhost:8080/"
        },
        "id": "Y_6QQvkgsmMx",
        "outputId": "a062eb02-a3b6-466e-e2b5-bfbb79583efc"
      },
      "outputs": [],
      "source": [
        "combined_image = np.hstack((im, cam_image))\n",
        "pil_image = Image.fromarray(combined_image)\n",
        "\n",
        "output_path = \"/Heatmap/LA_10.jpg\"\n",
        "\n",
        "# Save the image\n",
        "pil_image.save(output_path)\n",
        "\n",
        "print(\"Combined image saved successfully.\")"
      ]
    },
    {
      "cell_type": "markdown",
      "metadata": {},
      "source": [
        "#### Resize image"
      ]
    },
    {
      "cell_type": "code",
      "execution_count": null,
      "metadata": {
        "colab": {
          "base_uri": "https://localhost:8080/"
        },
        "id": "qs0mCoB1F7H2",
        "outputId": "3a7b443d-fb0a-4f5d-c246-a289f51ff004"
      },
      "outputs": [],
      "source": [
        "import os\n",
        "import cv2\n",
        "\n",
        "# Function to resize images in a folder\n",
        "def resize_images_in_folder(input_folder, output_folder, target_size=(1280, 640)):\n",
        "    # Create the output folder if it doesn't exist\n",
        "    if not os.path.exists(output_folder):\n",
        "        os.makedirs(output_folder)\n",
        "\n",
        "    # List all files in the input folder\n",
        "    files = os.listdir(input_folder)\n",
        "\n",
        "    # Iterate over each file in the input folder\n",
        "    for file_name in files:\n",
        "        # Skip non-image files\n",
        "        if not file_name.lower().endswith(('.png', '.jpg', '.jpeg', '.bmp')):\n",
        "            continue\n",
        "\n",
        "        # Read the image\n",
        "        img_path = os.path.join(input_folder, file_name)\n",
        "        img = cv2.imread(img_path)\n",
        "\n",
        "        # Resize the image\n",
        "        resized_img = cv2.resize(img, target_size)\n",
        "\n",
        "        # Save the resized image\n",
        "        output_path = os.path.join(output_folder, file_name)\n",
        "        cv2.imwrite(output_path, resized_img)\n",
        "\n",
        "        print(f\"Resized and saved: {output_path}\")\n",
        "\n",
        "# Example usage\n",
        "input_folder = '/Heatmap'\n",
        "output_folder = '/Heatmap/resize'\n",
        "resize_images_in_folder(input_folder, output_folder)\n"
      ]
    }
  ],
  "metadata": {
    "colab": {
      "provenance": []
    },
    "kernelspec": {
      "display_name": "Python 3",
      "name": "python3"
    },
    "language_info": {
      "name": "python"
    }
  },
  "nbformat": 4,
  "nbformat_minor": 0
}
