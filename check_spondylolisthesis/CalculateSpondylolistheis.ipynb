{
  "cells": [
    {
      "cell_type": "markdown",
      "metadata": {
        "id": "TqKVIPcnVMFe"
      },
      "source": [
        "# AP Image"
      ]
    },
    {
      "cell_type": "code",
      "execution_count": null,
      "metadata": {
        "id": "wAqcrEampvDQ"
      },
      "outputs": [],
      "source": [
        "file_path = \"\"\n",
        "image_path = \"\""
      ]
    },
    {
      "cell_type": "code",
      "execution_count": null,
      "metadata": {
        "colab": {
          "base_uri": "https://localhost:8080/",
          "height": 807
        },
        "id": "YWcNXUk528hk",
        "outputId": "dbda6bb4-7e9a-400e-a3e0-6f7b421f3830"
      },
      "outputs": [],
      "source": [
        "import matplotlib.pyplot as plt\n",
        "import numpy as np\n",
        "\n",
        "def plot_lines_between_pairs(image_path, masks):\n",
        "    image = plt.imread(image_path)\n",
        "\n",
        "    plt.figure(figsize=(10, 10))\n",
        "\n",
        "    plt.imshow(image)\n",
        "\n",
        "    for mask in masks:\n",
        "        class_id, *coordinates = map(float, mask.split())\n",
        "        class_id = int(class_id)\n",
        "        coordinates = np.array(coordinates)\n",
        "        coordinates = coordinates.reshape(-1, 2)\n",
        "        coordinates *= np.array([image.shape[1], image.shape[0]])\n",
        "\n",
        "        for coord in coordinates:\n",
        "            plt.scatter(coord[0], coord[1], color='yellow', s=5)\n",
        "\n",
        "        for i in range(0, len(coordinates)-1, 2):\n",
        "            plt.plot([coordinates[i][0], coordinates[i+1][0]], [coordinates[i][1], coordinates[i+1][1]], color='green')\n",
        "\n",
        "    plt.axis('off')\n",
        "    plt.show()\n",
        "\n",
        "with open(file_path, 'r') as file:\n",
        "    yolo_masks = file.readlines()\n",
        "\n",
        "\n",
        "plot_lines_between_pairs(image_path, yolo_masks)"
      ]
    },
    {
      "cell_type": "code",
      "execution_count": null,
      "metadata": {
        "colab": {
          "base_uri": "https://localhost:8080/",
          "height": 807
        },
        "id": "YchmtPV-lRQ0",
        "outputId": "71c421aa-af09-44c1-a1ba-18a0393533c8"
      },
      "outputs": [],
      "source": [
        "import matplotlib.pyplot as plt\n",
        "import numpy as np\n",
        "\n",
        "def plot_lines_between_pairs(image_path, masks):\n",
        "    image = plt.imread(image_path)\n",
        "\n",
        "    plt.figure(figsize=(10, 10))\n",
        "\n",
        "    plt.imshow(image)\n",
        "\n",
        "    for mask in masks:\n",
        "        class_id, *coordinates = map(float, mask.split())\n",
        "        class_id = int(class_id)\n",
        "        coordinates = np.array(coordinates)\n",
        "        coordinates = coordinates.reshape(-1, 2)\n",
        "        coordinates *= np.array([image.shape[1], image.shape[0]])\n",
        "\n",
        "        for i, coord in enumerate(coordinates):\n",
        "            plt.scatter(coord[0], coord[1], color='yellow', s=10)\n",
        "            plt.text(coord[0], coord[1], f'({int(coord[0])}, {int(coord[1])})', color='white', fontsize=4, ha='left', va='center')\n",
        "\n",
        "        for i in range(0, len(coordinates)-1, 2):\n",
        "            plt.plot([coordinates[i][0], coordinates[i+1][0]], [coordinates[i][1], coordinates[i+1][1]], color='green')\n",
        "\n",
        "    plt.axis('off')\n",
        "    plt.show()\n",
        "\n",
        "with open(file_path, 'r') as file:\n",
        "    yolo_masks = file.readlines()\n",
        "\n",
        "\n",
        "plot_lines_between_pairs(image_path, yolo_masks)\n"
      ]
    },
    {
      "cell_type": "code",
      "execution_count": null,
      "metadata": {
        "colab": {
          "base_uri": "https://localhost:8080/",
          "height": 1000
        },
        "id": "gX9qk_mdx6r0",
        "outputId": "5f621083-8784-4e53-a07a-b7ebd64a83e7"
      },
      "outputs": [],
      "source": [
        "import matplotlib.pyplot as plt\n",
        "import numpy as np\n",
        "\n",
        "def plot_lines_between_pairs(image_path, masks):\n",
        "    image = plt.imread(image_path)\n",
        "\n",
        "    plt.figure(figsize=(10, 10))\n",
        "\n",
        "    plt.imshow(image)\n",
        "\n",
        "    for mask in masks:\n",
        "        class_id, *coordinates = map(float, mask.split())\n",
        "        class_id = int(class_id)\n",
        "        coordinates = np.array(coordinates)\n",
        "        coordinates = coordinates.reshape(-1, 2)\n",
        "        coordinates *= np.array([image.shape[1], image.shape[0]])\n",
        "\n",
        "        for i, coord in enumerate(coordinates):\n",
        "            plt.scatter(coord[0], coord[1], color='yellow', s=10)\n",
        "            plt.text(coord[0], coord[1], f'({int(coord[0])}, {int(coord[1])})', color='white', fontsize=4, ha='left', va='center')\n",
        "            print(f\"Class: {class_id}, Point {i+1} Coordinate: ({int(coord[0])}, {int(coord[1])})\")\n",
        "\n",
        "        for i in range(0, len(coordinates)-1, 2):\n",
        "            plt.plot([coordinates[i][0], coordinates[i+1][0]], [coordinates[i][1], coordinates[i+1][1]], color='green')\n",
        "\n",
        "    plt.axis('off')\n",
        "    plt.show()\n",
        "\n",
        "with open(file_path, 'r') as file:\n",
        "    yolo_masks = file.readlines()\n",
        "\n",
        "\n",
        "plot_lines_between_pairs(image_path, yolo_masks)\n"
      ]
    },
    {
      "cell_type": "code",
      "execution_count": null,
      "metadata": {
        "colab": {
          "base_uri": "https://localhost:8080/",
          "height": 517
        },
        "id": "w66ZVSiHyohm",
        "outputId": "4bb477a4-3855-49f6-fc8a-8ce94f7fd405"
      },
      "outputs": [],
      "source": [
        "import matplotlib.pyplot as plt\n",
        "import numpy as np\n",
        "\n",
        "def plot_lines_between_pairs(image_path, masks):\n",
        "    image = plt.imread(image_path)\n",
        "\n",
        "    all_coordinates = []\n",
        "\n",
        "    for mask in masks:\n",
        "        class_id, *coordinates = map(float, mask.split())\n",
        "        class_id = int(class_id)\n",
        "        coordinates = np.array(coordinates)\n",
        "        coordinates = coordinates.reshape(-1, 2)\n",
        "        coordinates *= np.array([image.shape[1], image.shape[0]])\n",
        "\n",
        "        for coord in coordinates:\n",
        "            all_coordinates.append((int(coord[0]), int(coord[1])))\n",
        "\n",
        "        for i, coord in enumerate(coordinates):\n",
        "            plt.scatter(coord[0], coord[1], color='yellow', s=10)\n",
        "            plt.text(coord[0], coord[1], f'({int(coord[0])}, {int(coord[1])})', color='white', fontsize=4, ha='left', va='center')\n",
        "\n",
        "        for i in range(0, len(coordinates)-1, 2):\n",
        "            plt.plot([coordinates[i][0], coordinates[i+1][0]], [coordinates[i][1], coordinates[i+1][1]], color='green')\n",
        "\n",
        "    return all_coordinates\n",
        "\n",
        "with open(file_path, 'r') as file:\n",
        "    yolo_masks = file.readlines()\n",
        "\n",
        "\n",
        "all_coordinates = plot_lines_between_pairs(image_path, yolo_masks)\n",
        "\n",
        "list1 = all_coordinates[:4]\n",
        "list2 = all_coordinates[4:8]\n",
        "list3 = all_coordinates[8:12]\n",
        "list4 = all_coordinates[12:16]\n",
        "list5 = all_coordinates[16:20]\n",
        "\n",
        "list1[2], list1[3] = list1[3], list1[2]\n",
        "list2[2], list2[3] = list2[3], list2[2]\n",
        "list3[2], list3[3] = list3[3], list3[2]\n",
        "list4[2], list4[3] = list4[3], list4[2]\n",
        "list5[2], list5[3] = list5[3], list5[2]\n",
        "\n",
        "print(list1)\n",
        "print(list2)\n",
        "print(list3)\n",
        "print(list4)\n",
        "print(list5)"
      ]
    },
    {
      "cell_type": "code",
      "execution_count": null,
      "metadata": {
        "id": "LaFNGmdF60qi"
      },
      "outputs": [],
      "source": [
        "pair1 = (list1[2], list1[3], list2[0], list2[1])\n",
        "pair2 = (list2[2], list2[3], list3[0], list3[1])\n",
        "pair3 = (list3[2], list3[3], list4[0], list4[1])\n",
        "pair4 = (list4[2], list4[3], list5[0], list5[1])"
      ]
    },
    {
      "cell_type": "code",
      "execution_count": null,
      "metadata": {
        "colab": {
          "base_uri": "https://localhost:8080/"
        },
        "id": "YFvqjZ4vGsa6",
        "outputId": "ba8db2b7-15bf-4c17-bce6-db7eb5c8ae21"
      },
      "outputs": [],
      "source": [
        "print(\"L1-L2: \",pair1)\n",
        "print(\"L2-L3: \",pair2)\n",
        "print(\"L3-L4: \",pair3)\n",
        "print(\"L4-L5: \",pair4)"
      ]
    },
    {
      "cell_type": "code",
      "execution_count": null,
      "metadata": {
        "colab": {
          "base_uri": "https://localhost:8080/"
        },
        "id": "FnO8oWHRGwmV",
        "outputId": "a0a49e58-2fb8-4358-d7a2-7bd6bdbfd4b0"
      },
      "outputs": [],
      "source": [
        "def meyerding_classification(pair):\n",
        "    l1_left, l1_right, l2_left, l2_right = pair\n",
        "    width_l1 = l1_right[0] - l1_left[0]\n",
        "    width_l2 = l2_right[0] - l2_left[0]\n",
        "    displacement = l2_left[0] - l1_left[0]\n",
        "    percentage_slip = abs((displacement / width_l1) * 100)\n",
        "\n",
        "    if percentage_slip < 25:\n",
        "        classification = \"Grade I: <25% slippage\"\n",
        "    elif percentage_slip < 50:\n",
        "        classification = \"Grade II: 25-49% slippage\"\n",
        "    elif percentage_slip < 75:\n",
        "        classification = \"Grade III: 50-74% slippage\"\n",
        "    elif percentage_slip < 100:\n",
        "        classification = \"Grade IV: 75-99% slippage\"\n",
        "    else:\n",
        "        classification = \"Grade V: 100% slippage (spondyloptosis)\"\n",
        "\n",
        "    return percentage_slip, classification\n",
        "\n",
        "def meyerding_classification_direction(pair):\n",
        "    l1_left, l1_right, l2_left, l2_right = pair\n",
        "    displacement = l2_left[0] - l1_left[0]\n",
        "    if displacement < 0:\n",
        "        return \"Left\"\n",
        "    elif displacement > 0:\n",
        "        return \"Right\"\n",
        "    else:\n",
        "        return \"No slip\"\n",
        "\n",
        "\n",
        "for pair_num, pair in enumerate([pair1, pair2, pair3, pair4], start=1):\n",
        "    print(f\"Meyerding Classification for pair{pair_num}:\")\n",
        "    percentage_slip, classification = meyerding_classification(pair)\n",
        "    direction = meyerding_classification_direction(pair)\n",
        "    print(f\"Slip Direction: {direction} \\n{classification} \\nPercentage of slip: {percentage_slip:.2f}%\")\n",
        "    if percentage_slip < 25:\n",
        "      print(f\"Condition: Normal\")\n",
        "    elif percentage_slip < 50:\n",
        "      print(f\"Condition: Potential {direction} laterolisthesis\")\n",
        "    elif percentage_slip < 75:\n",
        "      print(f\"Condition: Potential {direction} laterolisthesis\")\n",
        "    elif percentage_slip < 100:\n",
        "      print(f\"Condition: Potential {direction} laterolisthesis\")\n",
        "    else:\n",
        "      print(\"Condition: Spondylolisthesis\")\n",
        "    print(\"--------------------------- \\n\")"
      ]
    },
    {
      "cell_type": "markdown",
      "metadata": {
        "id": "46nxjDW5gy-b"
      },
      "source": [
        "## LA Image"
      ]
    },
    {
      "cell_type": "code",
      "execution_count": null,
      "metadata": {},
      "outputs": [],
      "source": [
        "file_path = \"\"\n",
        "image_path = \"\""
      ]
    },
    {
      "cell_type": "code",
      "execution_count": null,
      "metadata": {
        "colab": {
          "base_uri": "https://localhost:8080/",
          "height": 807
        },
        "id": "qHQhblcPg0u7",
        "outputId": "45a1272f-2938-4147-cfdb-1a66afb5d7ba"
      },
      "outputs": [],
      "source": [
        "import matplotlib.pyplot as plt\n",
        "import numpy as np\n",
        "\n",
        "def plot_lines_between_pairs(image_path, masks):\n",
        "    image = plt.imread(image_path)\n",
        "\n",
        "    plt.figure(figsize=(10, 10))\n",
        "\n",
        "    plt.imshow(image)\n",
        "\n",
        "    for mask in masks:\n",
        "        class_id, *coordinates = map(float, mask.split())\n",
        "        class_id = int(class_id)\n",
        "        coordinates = np.array(coordinates)\n",
        "        coordinates = coordinates.reshape(-1, 2)\n",
        "        coordinates *= np.array([image.shape[1], image.shape[0]])\n",
        "\n",
        "        for coord in coordinates:\n",
        "            plt.scatter(coord[0], coord[1], color='yellow', s=5)\n",
        "\n",
        "        for i in range(0, len(coordinates)-1, 2):\n",
        "            plt.plot([coordinates[i][0], coordinates[i+1][0]], [coordinates[i][1], coordinates[i+1][1]], color='green')\n",
        "\n",
        "    plt.axis('off')\n",
        "    plt.show()\n",
        "\n",
        "with open(file_path, 'r') as file:\n",
        "    yolo_masks = file.readlines()\n",
        "\n",
        "\n",
        "plot_lines_between_pairs(image_path, yolo_masks)"
      ]
    },
    {
      "cell_type": "code",
      "execution_count": null,
      "metadata": {
        "colab": {
          "base_uri": "https://localhost:8080/",
          "height": 807
        },
        "id": "D5jw5DmHg_hS",
        "outputId": "78ed3364-f1e4-4880-c9fc-0068ac510e4d"
      },
      "outputs": [],
      "source": [
        "import matplotlib.pyplot as plt\n",
        "import numpy as np\n",
        "\n",
        "def plot_lines_between_pairs(image_path, masks):\n",
        "    image = plt.imread(image_path)\n",
        "\n",
        "    plt.figure(figsize=(10, 10))\n",
        "\n",
        "    plt.imshow(image)\n",
        "\n",
        "    for mask in masks:\n",
        "        class_id, *coordinates = map(float, mask.split())\n",
        "        class_id = int(class_id)\n",
        "        coordinates = np.array(coordinates)\n",
        "        coordinates = coordinates.reshape(-1, 2)\n",
        "        coordinates *= np.array([image.shape[1], image.shape[0]])\n",
        "\n",
        "        for i, coord in enumerate(coordinates):\n",
        "            plt.scatter(coord[0], coord[1], color='yellow', s=10)\n",
        "            plt.text(coord[0], coord[1], f'({int(coord[0])}, {int(coord[1])})', color='white', fontsize=4, ha='left', va='center')\n",
        "\n",
        "        for i in range(0, len(coordinates)-1, 2):\n",
        "            plt.plot([coordinates[i][0], coordinates[i+1][0]], [coordinates[i][1], coordinates[i+1][1]], color='green')\n",
        "\n",
        "    plt.axis('off')\n",
        "    plt.show()\n",
        "\n",
        "with open(file_path, 'r') as file:\n",
        "    yolo_masks = file.readlines()\n",
        "\n",
        "\n",
        "plot_lines_between_pairs(image_path, yolo_masks)\n"
      ]
    },
    {
      "cell_type": "code",
      "execution_count": null,
      "metadata": {
        "colab": {
          "base_uri": "https://localhost:8080/",
          "height": 1000
        },
        "id": "LrUcccCRhIUs",
        "outputId": "18e71ccf-aa5f-4962-e2d5-603e754d7ca4"
      },
      "outputs": [],
      "source": [
        "import matplotlib.pyplot as plt\n",
        "import numpy as np\n",
        "\n",
        "def plot_lines_between_pairs(image_path, masks):\n",
        "    image = plt.imread(image_path)\n",
        "\n",
        "    plt.figure(figsize=(10, 10))\n",
        "\n",
        "    plt.imshow(image)\n",
        "\n",
        "    for mask in masks:\n",
        "        class_id, *coordinates = map(float, mask.split())\n",
        "        class_id = int(class_id)\n",
        "        coordinates = np.array(coordinates)\n",
        "        coordinates = coordinates.reshape(-1, 2)\n",
        "        coordinates *= np.array([image.shape[1], image.shape[0]])\n",
        "\n",
        "        for i, coord in enumerate(coordinates):\n",
        "            plt.scatter(coord[0], coord[1], color='yellow', s=10)\n",
        "            plt.text(coord[0], coord[1], f'({int(coord[0])}, {int(coord[1])})', color='white', fontsize=4, ha='left', va='center')\n",
        "            print(f\"Class: {class_id}, Point {i+1} Coordinate: ({int(coord[0])}, {int(coord[1])})\")\n",
        "\n",
        "        for i in range(0, len(coordinates)-1, 2):\n",
        "            plt.plot([coordinates[i][0], coordinates[i+1][0]], [coordinates[i][1], coordinates[i+1][1]], color='green')\n",
        "\n",
        "    plt.axis('off')\n",
        "    plt.show()\n",
        "\n",
        "with open(file_path, 'r') as file:\n",
        "    yolo_masks = file.readlines()\n",
        "\n",
        "\n",
        "plot_lines_between_pairs(image_path, yolo_masks)"
      ]
    },
    {
      "cell_type": "code",
      "execution_count": null,
      "metadata": {
        "colab": {
          "base_uri": "https://localhost:8080/",
          "height": 537
        },
        "id": "dssJVmv9hvD3",
        "outputId": "66f34b7f-9c5a-4f66-9d47-8a74d14d54e3"
      },
      "outputs": [],
      "source": [
        "import matplotlib.pyplot as plt\n",
        "import numpy as np\n",
        "\n",
        "def plot_lines_between_pairs(image_path, masks):\n",
        "    image = plt.imread(image_path)\n",
        "\n",
        "    all_coordinates = []\n",
        "\n",
        "    for mask in masks:\n",
        "        class_id, *coordinates = map(float, mask.split())\n",
        "        class_id = int(class_id)\n",
        "        coordinates = np.array(coordinates)\n",
        "        coordinates = coordinates.reshape(-1, 2)\n",
        "        coordinates *= np.array([image.shape[1], image.shape[0]])\n",
        "\n",
        "        for coord in coordinates:\n",
        "            all_coordinates.append((int(coord[0]), int(coord[1])))\n",
        "\n",
        "        for i, coord in enumerate(coordinates):\n",
        "            plt.scatter(coord[0], coord[1], color='yellow', s=10)\n",
        "            plt.text(coord[0], coord[1], f'({int(coord[0])}, {int(coord[1])})', color='white', fontsize=4, ha='left', va='center')\n",
        "\n",
        "        for i in range(0, len(coordinates)-1, 2):\n",
        "            plt.plot([coordinates[i][0], coordinates[i+1][0]], [coordinates[i][1], coordinates[i+1][1]], color='green')\n",
        "\n",
        "    return all_coordinates\n",
        "\n",
        "with open(file_path, 'r') as file:\n",
        "    yolo_masks = file.readlines()\n",
        "\n",
        "\n",
        "all_coordinates = plot_lines_between_pairs(image_path, yolo_masks)\n",
        "\n",
        "list1 = all_coordinates[:4]\n",
        "list2 = all_coordinates[4:8]\n",
        "list3 = all_coordinates[8:12]\n",
        "list4 = all_coordinates[12:16]\n",
        "list5 = all_coordinates[16:20]\n",
        "list6 = all_coordinates[20:24]\n",
        "\n",
        "list1[2], list1[3] = list1[3], list1[2]\n",
        "list2[2], list2[3] = list2[3], list2[2]\n",
        "list3[2], list3[3] = list3[3], list3[2]\n",
        "list4[2], list4[3] = list4[3], list4[2]\n",
        "list5[2], list5[3] = list5[3], list5[2]\n",
        "list6[2], list6[3] = list6[3], list6[2]\n",
        "\n",
        "print(list1)\n",
        "print(list2)\n",
        "print(list3)\n",
        "print(list4)\n",
        "print(list5)\n",
        "print(list6)"
      ]
    },
    {
      "cell_type": "code",
      "execution_count": null,
      "metadata": {
        "id": "A52n7wyFjFfe"
      },
      "outputs": [],
      "source": [
        "pair1 = (list1[2], list1[3], list2[0], list2[1])\n",
        "pair2 = (list2[2], list2[3], list3[0], list3[1])\n",
        "pair3 = (list3[2], list3[3], list4[0], list4[1])\n",
        "pair4 = (list4[2], list4[3], list5[0], list5[1])\n",
        "pair5 = (list5[2], list5[3], list6[0], list6[1])"
      ]
    },
    {
      "cell_type": "code",
      "execution_count": null,
      "metadata": {
        "colab": {
          "base_uri": "https://localhost:8080/"
        },
        "id": "ivnsnsHqjk4W",
        "outputId": "2e5bb261-c785-4983-a9f8-b8e24745962b"
      },
      "outputs": [],
      "source": [
        "print(\"L1-L2: \",pair1)\n",
        "print(\"L2-L3: \",pair2)\n",
        "print(\"L3-L4: \",pair3)\n",
        "print(\"L4-L5: \",pair4)\n",
        "print(\"L5-S1: \",pair5)"
      ]
    },
    {
      "cell_type": "code",
      "execution_count": null,
      "metadata": {
        "colab": {
          "base_uri": "https://localhost:8080/"
        },
        "id": "Yl-IyEzljn9c",
        "outputId": "bbdf8f0b-6a50-4383-c60b-6486437e1507"
      },
      "outputs": [],
      "source": [
        "def meyerding_classification(pair):\n",
        "    l1_left, l1_right, l2_left, l2_right = pair\n",
        "    width_l1 = l1_right[0] - l1_left[0]\n",
        "    width_l2 = l2_right[0] - l2_left[0]\n",
        "    displacement = l1_left[0] - l2_left[0]\n",
        "    percentage_slip = abs((displacement / width_l1) * 100)\n",
        "\n",
        "    if percentage_slip < 25:\n",
        "        classification = \"Grade I: <25% slippage\"\n",
        "    elif percentage_slip < 50:\n",
        "        classification = \"Grade II: 25-49% slippage\"\n",
        "    elif percentage_slip < 75:\n",
        "        classification = \"Grade III: 50-74% slippage\"\n",
        "    elif percentage_slip < 100:\n",
        "        classification = \"Grade IV: 75-99% slippage\"\n",
        "    else:\n",
        "        classification = \"Grade V: 100% slippage (spondyloptosis)\"\n",
        "\n",
        "    return percentage_slip, classification\n",
        "\n",
        "def meyerding_classification_direction(pair):\n",
        "    l1_left, l1_right, l2_left, l2_right = pair\n",
        "    displacement = l1_left[0] - l2_left[0]\n",
        "    if displacement < 0:\n",
        "        return \"Right\"\n",
        "    elif displacement > 0:\n",
        "        return \"Left\"\n",
        "    else:\n",
        "        return \"No slip\"\n",
        "\n",
        "\n",
        "for pair_num, pair in enumerate([pair1, pair2, pair3, pair4, pair5], start=1):\n",
        "    print(f\"Meyerding Classification for pair{pair_num}:\")\n",
        "    percentage_slip, classification = meyerding_classification(pair)\n",
        "    direction = meyerding_classification_direction(pair)\n",
        "    print(f\"Slip Direction: {direction} \\n{classification} \\nPercentage of slip: {percentage_slip:.2f}%\")\n",
        "    if percentage_slip < 25:\n",
        "      print(f\"Condition: Normal\")\n",
        "    elif {direction} == \"Right\" and percentage_slip < 50:\n",
        "      print(f\"Condition: Potential Anterolisthesis\")\n",
        "    elif {direction} == \"Left\" and percentage_slip < 50:\n",
        "      print(f\"Condition: Potential Retrolisthesis\")\n",
        "    elif {direction} == \"Right\" and percentage_slip < 75:\n",
        "      print(f\"Condition: Potential Anterolisthesis\")\n",
        "    elif {direction} == \"Left\" and percentage_slip < 75:\n",
        "      print(f\"Condition: Potential Retrolisthesis\")\n",
        "    elif {direction} == \"Right\" and percentage_slip < 100:\n",
        "      print(f\"Condition: Potential Anterolisthesis\")\n",
        "    elif {direction} == \"Left\" and percentage_slip < 100:\n",
        "      print(f\"Condition: Potential Retrolisthesis\")\n",
        "    else:\n",
        "      print(\"Condition: Spondylolisthesis\")\n",
        "    print(\"--------------------------- \\n\")"
      ]
    }
  ],
  "metadata": {
    "colab": {
      "provenance": []
    },
    "kernelspec": {
      "display_name": "Python 3",
      "name": "python3"
    },
    "language_info": {
      "name": "python"
    }
  },
  "nbformat": 4,
  "nbformat_minor": 0
}
