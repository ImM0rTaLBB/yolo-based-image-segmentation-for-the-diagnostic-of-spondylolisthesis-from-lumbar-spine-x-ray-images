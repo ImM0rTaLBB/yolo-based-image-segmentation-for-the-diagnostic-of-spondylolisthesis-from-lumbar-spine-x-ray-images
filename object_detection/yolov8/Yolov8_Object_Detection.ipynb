{
  "cells": [
    {
      "cell_type": "markdown",
      "metadata": {
        "id": "eGKWN-hTurHk"
      },
      "source": [
        "## Setup"
      ]
    },
    {
      "cell_type": "code",
      "execution_count": null,
      "metadata": {
        "colab": {
          "base_uri": "https://localhost:8080/"
        },
        "id": "1ZsZHR_gUBt3",
        "outputId": "84730fb3-f648-4455-aeeb-4a3df092107a"
      },
      "outputs": [],
      "source": [
        "!nvidia-smi"
      ]
    },
    {
      "cell_type": "markdown",
      "metadata": {},
      "source": [
        "#### Import Library"
      ]
    },
    {
      "cell_type": "code",
      "execution_count": null,
      "metadata": {
        "colab": {
          "base_uri": "https://localhost:8080/"
        },
        "id": "pvHvmg92Udy0",
        "outputId": "022e0128-d96a-4c35-9d85-de8ef4d48471"
      },
      "outputs": [],
      "source": [
        "import ultralytics\n",
        "ultralytics.checks()"
      ]
    },
    {
      "cell_type": "code",
      "execution_count": null,
      "metadata": {
        "id": "QArX2bl_UhUk"
      },
      "outputs": [],
      "source": [
        "from ultralytics import YOLO\n",
        "from IPython.display import display, Image"
      ]
    },
    {
      "cell_type": "code",
      "execution_count": null,
      "metadata": {
        "colab": {
          "base_uri": "https://localhost:8080/"
        },
        "id": "vjqkq2Q-Ui5I",
        "outputId": "9ddb9f5a-cbc5-4082-c1ff-4f6be74e76a2"
      },
      "outputs": [
        {
          "name": "stdout",
          "output_type": "stream",
          "text": [
            "H:\\Yolo\\yolov8\n"
          ]
        },
        {
          "name": "stderr",
          "output_type": "stream",
          "text": [
            "C:\\Users\\arnik\\AppData\\Local\\Programs\\Python\\Python310\\lib\\site-packages\\IPython\\core\\magics\\osm.py:417: UserWarning: using dhist requires you to install the `pickleshare` library.\n",
            "  self.shell.db['dhist'] = compress_dhist(dhist)[-100:]\n"
          ]
        }
      ],
      "source": [
        "%cd ./yolov8"
      ]
    },
    {
      "cell_type": "code",
      "execution_count": null,
      "metadata": {
        "colab": {
          "base_uri": "https://localhost:8080/"
        },
        "id": "ZWJ9HlkhUmRK",
        "outputId": "e3608402-ca2a-4130-884a-63e38ab6d844"
      },
      "outputs": [
        {
          "name": "stdout",
          "output_type": "stream",
          "text": [
            "H:\\Yolo\\yolov8\n"
          ]
        }
      ],
      "source": [
        "!cd"
      ]
    },
    {
      "cell_type": "markdown",
      "metadata": {
        "id": "3rGu9keNUqno"
      },
      "source": [
        "### AP Image"
      ]
    },
    {
      "cell_type": "markdown",
      "metadata": {
        "id": "bFU-vNvyUsEn"
      },
      "source": [
        "#### Model Training"
      ]
    },
    {
      "cell_type": "code",
      "execution_count": null,
      "metadata": {
        "colab": {
          "base_uri": "https://localhost:8080/"
        },
        "id": "8BnO4LRdUm04",
        "outputId": "98aa3cb0-0f71-498a-a7bc-a524eeed528e"
      },
      "outputs": [],
      "source": [
        "!yolo task=detect mode=train model=yolov8s.pt data=data.yaml epochs=100 imgsz=640 device=0 batch=4 patience=10"
      ]
    },
    {
      "cell_type": "markdown",
      "metadata": {
        "id": "pasR3jHCU39d"
      },
      "source": [
        "#### Model Validation"
      ]
    },
    {
      "cell_type": "code",
      "execution_count": null,
      "metadata": {
        "colab": {
          "base_uri": "https://localhost:8080/"
        },
        "id": "lPpBWLdbU75S",
        "outputId": "511f479e-c059-4571-de35-297a77f13fb8"
      },
      "outputs": [],
      "source": [
        "!yolo task=detect mode=val model=./runs/detect/train/weights/best.pt data=data.yaml"
      ]
    },
    {
      "cell_type": "markdown",
      "metadata": {
        "id": "ncPhVJoBU_Ri"
      },
      "source": [
        "#### Model Prediction"
      ]
    },
    {
      "cell_type": "code",
      "execution_count": null,
      "metadata": {
        "colab": {
          "base_uri": "https://localhost:8080/"
        },
        "id": "KAAwJQkvVB4J",
        "outputId": "fdc9ec83-accd-45cc-cf0c-354efb700883"
      },
      "outputs": [],
      "source": [
        "!yolo task=detect mode=predict model=./runs/detect/train/weights/best.pt conf=0.25 source=H:/Yolo/datasets/test/images/ save=true save_txt=True save_crop=True save_conf=True"
      ]
    },
    {
      "cell_type": "markdown",
      "metadata": {},
      "source": [
        "#### Show Results"
      ]
    },
    {
      "cell_type": "code",
      "execution_count": null,
      "metadata": {
        "colab": {
          "base_uri": "https://localhost:8080/",
          "height": 1000
        },
        "id": "xnSqHh-IVGQi",
        "outputId": "99fe9012-92a8-4aec-c45e-b87853bd7aa2"
      },
      "outputs": [],
      "source": [
        "import glob\n",
        "from IPython.display import Image, display\n",
        "\n",
        "for image_path in glob.glob(f'./runs/detect/predict/*.jpg')[:3]:\n",
        "      display(Image(filename=image_path, height=600))\n",
        "      print(\"\\n\")"
      ]
    },
    {
      "cell_type": "markdown",
      "metadata": {
        "id": "9v3r4JoKVH7O"
      },
      "source": [
        "### LA Image"
      ]
    },
    {
      "cell_type": "markdown",
      "metadata": {
        "id": "hotIs76KVQWe"
      },
      "source": [
        "#### Model Training"
      ]
    },
    {
      "cell_type": "code",
      "execution_count": null,
      "metadata": {
        "colab": {
          "base_uri": "https://localhost:8080/"
        },
        "id": "c2qYHtnhVQWe",
        "outputId": "3f508936-ff17-43c0-d1f0-4bfef4f94e0a"
      },
      "outputs": [],
      "source": [
        "!yolo task=detect mode=train model=yolov8s.pt data=data_LA.yaml epochs=100 imgsz=640 device=0 batch=4"
      ]
    },
    {
      "cell_type": "markdown",
      "metadata": {
        "id": "xGzu-QNmVU4S"
      },
      "source": [
        "#### Model Validation"
      ]
    },
    {
      "cell_type": "code",
      "execution_count": null,
      "metadata": {
        "colab": {
          "base_uri": "https://localhost:8080/"
        },
        "id": "LnUk3GSVVU4T",
        "outputId": "4c900bdd-fe18-46c3-88f9-1fdb716e27fe"
      },
      "outputs": [],
      "source": [
        "!yolo task=detect mode=val model=./runs/detect/train/weights/best.pt data=data_LA.yaml"
      ]
    },
    {
      "cell_type": "markdown",
      "metadata": {
        "id": "mw0v1IsVVYHh"
      },
      "source": [
        "#### Model Prediction"
      ]
    },
    {
      "cell_type": "code",
      "execution_count": null,
      "metadata": {
        "colab": {
          "base_uri": "https://localhost:8080/"
        },
        "id": "dggoA6rbVYHh",
        "outputId": "a1ccd4f2-f98f-4a1f-9c20-4bc58bd5691d"
      },
      "outputs": [],
      "source": [
        "!yolo task=detect mode=predict model=./runs/detect/train/weights/best.pt conf=0.25 source=H:/Yolo/datasets_LA_Augment/test/images save=true save_txt=True save_crop=True save_conf=True"
      ]
    },
    {
      "cell_type": "markdown",
      "metadata": {},
      "source": [
        "#### Show Results"
      ]
    },
    {
      "cell_type": "code",
      "execution_count": null,
      "metadata": {
        "colab": {
          "base_uri": "https://localhost:8080/",
          "height": 1000
        },
        "id": "mQT2WIUtVYHh",
        "outputId": "63f4f993-b914-4af7-fc61-0ca3f3e8549f"
      },
      "outputs": [],
      "source": [
        "import glob\n",
        "from IPython.display import Image, display\n",
        "\n",
        "for image_path in glob.glob(f'./runs/detect/predict/*.jpg')[:3]:\n",
        "      display(Image(filename=image_path, height=600))\n",
        "      print(\"\\n\")"
      ]
    }
  ],
  "metadata": {
    "colab": {
      "provenance": []
    },
    "kernelspec": {
      "display_name": "Python 3",
      "name": "python3"
    },
    "language_info": {
      "name": "python"
    }
  },
  "nbformat": 4,
  "nbformat_minor": 0
}
